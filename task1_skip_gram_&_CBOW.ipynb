{
  "nbformat": 4,
  "nbformat_minor": 0,
  "metadata": {
    "colab": {
      "provenance": []
    },
    "kernelspec": {
      "name": "python3",
      "display_name": "Python 3"
    },
    "language_info": {
      "name": "python"
    }
  },
  "cells": [
    {
      "cell_type": "code",
      "source": [
        "!pip install numpy==1.23.5\n",
        "!pip install --upgrade gensim"
      ],
      "metadata": {
        "colab": {
          "base_uri": "https://localhost:8080/",
          "height": 704
        },
        "id": "_5K07mspYAjj",
        "outputId": "59c6f990-a673-47ea-9d4e-25b02701831c"
      },
      "execution_count": 6,
      "outputs": [
        {
          "output_type": "stream",
          "name": "stdout",
          "text": [
            "Collecting numpy==1.23.5\n",
            "  Downloading numpy-1.23.5-cp311-cp311-manylinux_2_17_x86_64.manylinux2014_x86_64.whl.metadata (2.3 kB)\n",
            "Downloading numpy-1.23.5-cp311-cp311-manylinux_2_17_x86_64.manylinux2014_x86_64.whl (17.1 MB)\n",
            "\u001b[2K   \u001b[90m━━━━━━━━━━━━━━━━━━━━━━━━━━━━━━━━━━━━━━━━\u001b[0m \u001b[32m17.1/17.1 MB\u001b[0m \u001b[31m91.4 MB/s\u001b[0m eta \u001b[36m0:00:00\u001b[0m\n",
            "\u001b[?25hInstalling collected packages: numpy\n",
            "  Attempting uninstall: numpy\n",
            "    Found existing installation: numpy 1.26.4\n",
            "    Uninstalling numpy-1.26.4:\n",
            "      Successfully uninstalled numpy-1.26.4\n",
            "\u001b[31mERROR: pip's dependency resolver does not currently take into account all the packages that are installed. This behaviour is the source of the following dependency conflicts.\n",
            "chex 0.1.89 requires numpy>=1.24.1, but you have numpy 1.23.5 which is incompatible.\n",
            "albumentations 2.0.6 requires numpy>=1.24.4, but you have numpy 1.23.5 which is incompatible.\n",
            "albucore 0.0.24 requires numpy>=1.24.4, but you have numpy 1.23.5 which is incompatible.\n",
            "scikit-image 0.25.2 requires numpy>=1.24, but you have numpy 1.23.5 which is incompatible.\n",
            "bigframes 2.1.0 requires numpy>=1.24.0, but you have numpy 1.23.5 which is incompatible.\n",
            "imbalanced-learn 0.13.0 requires numpy<3,>=1.24.3, but you have numpy 1.23.5 which is incompatible.\n",
            "tensorflow 2.18.0 requires numpy<2.1.0,>=1.26.0, but you have numpy 1.23.5 which is incompatible.\n",
            "treescope 0.1.9 requires numpy>=1.25.2, but you have numpy 1.23.5 which is incompatible.\n",
            "jax 0.5.2 requires numpy>=1.25, but you have numpy 1.23.5 which is incompatible.\n",
            "blosc2 3.3.1 requires numpy>=1.26, but you have numpy 1.23.5 which is incompatible.\n",
            "jaxlib 0.5.1 requires numpy>=1.25, but you have numpy 1.23.5 which is incompatible.\n",
            "thinc 8.3.6 requires numpy<3.0.0,>=2.0.0, but you have numpy 1.23.5 which is incompatible.\n",
            "pymc 5.22.0 requires numpy>=1.25.0, but you have numpy 1.23.5 which is incompatible.\n",
            "xarray 2025.3.1 requires numpy>=1.24, but you have numpy 1.23.5 which is incompatible.\u001b[0m\u001b[31m\n",
            "\u001b[0mSuccessfully installed numpy-1.23.5\n"
          ]
        },
        {
          "output_type": "display_data",
          "data": {
            "application/vnd.colab-display-data+json": {
              "pip_warning": {
                "packages": [
                  "numpy"
                ]
              },
              "id": "4ad6e6628c9b4d688a59050281536c33"
            }
          },
          "metadata": {}
        },
        {
          "output_type": "stream",
          "name": "stdout",
          "text": [
            "\n",
            "Usage:   \n",
            "  pip3 install [options] <requirement specifier> [package-index-options] ...\n",
            "  pip3 install [options] -r <requirements file> [package-index-options] ...\n",
            "  pip3 install [options] [-e] <vcs project url> ...\n",
            "  pip3 install [options] [-e] <local project path> ...\n",
            "  pip3 install [options] <archive url/path> ...\n",
            "\n",
            "no such option: --upgrade gensim\n"
          ]
        }
      ]
    },
    {
      "cell_type": "code",
      "source": [
        "import gensim.downloader as api\n",
        "import numpy as np"
      ],
      "metadata": {
        "id": "_5kJVMM1RlN2"
      },
      "execution_count": 17,
      "outputs": []
    },
    {
      "cell_type": "code",
      "source": [
        "model=api.load('glove-wiki-gigaword-100')"
      ],
      "metadata": {
        "id": "ipoEeoPvbq1T"
      },
      "execution_count": 18,
      "outputs": []
    },
    {
      "cell_type": "code",
      "source": [
        "def skip_gram_predict(text,model):\n",
        "  words= [word.lower() for word in text.split() if word.isalpha()]\n",
        "  for word in words:\n",
        "    if word in model:\n",
        "      similar_words=model.most_similar(word,topn=5)\n",
        "      print(\"word:- \",word)\n",
        "      print(\"similar words:- \",similar_words)"
      ],
      "metadata": {
        "id": "WesmkHqRYiEq"
      },
      "execution_count": 21,
      "outputs": []
    },
    {
      "cell_type": "code",
      "source": [
        "skip_gram_predict(\"the cat on the mat\",model)"
      ],
      "metadata": {
        "colab": {
          "base_uri": "https://localhost:8080/"
        },
        "id": "mF2HepnWcfUM",
        "outputId": "cec4be0f-8123-4a67-f6b6-7454b5b99418"
      },
      "execution_count": 22,
      "outputs": [
        {
          "output_type": "stream",
          "name": "stdout",
          "text": [
            "word:-  the\n",
            "similar words:-  [('this', 0.8573122024536133), ('part', 0.8507951498031616), ('one', 0.8503074049949646), ('of', 0.8328992128372192), ('same', 0.8324545621871948)]\n",
            "word:-  cat\n",
            "similar words:-  [('dog', 0.8798074722290039), ('rabbit', 0.7424427270889282), ('cats', 0.732300341129303), ('monkey', 0.7288709878921509), ('pet', 0.719014048576355)]\n",
            "word:-  on\n",
            "similar words:-  [('the', 0.8199756741523743), ('over', 0.8062289357185364), ('for', 0.8030421733856201), ('in', 0.7955647110939026), ('next', 0.7842695116996765)]\n",
            "word:-  the\n",
            "similar words:-  [('this', 0.8573122024536133), ('part', 0.8507951498031616), ('one', 0.8503074049949646), ('of', 0.8328992128372192), ('same', 0.8324545621871948)]\n",
            "word:-  mat\n",
            "similar words:-  [('mats', 0.5560909509658813), ('deen', 0.5374774932861328), ('salleh', 0.5357422828674316), ('nik', 0.5193937420845032), ('hek', 0.4948473870754242)]\n"
          ]
        }
      ]
    },
    {
      "cell_type": "code",
      "source": [
        "def CBOW_predict(text,model):\n",
        "    words = [word.lower() for word in text.split() if word.isalpha()]\n",
        "    context = words[:-1]\n",
        "    target = words[-1]\n",
        "    context_vectors = [model[word] for word in context if word in model]\n",
        "    context_vector = np.mean(context_vectors, axis=0)\n",
        "    similar_words = model.most_similar(positive=[context_vector], topn=5)\n",
        "    print(\"Context: \", context)\n",
        "    print(\"Target: \", target)\n",
        "    print(\"Similar words: \", similar_words)"
      ],
      "metadata": {
        "id": "rFxKiMR8dmAw"
      },
      "execution_count": 23,
      "outputs": []
    },
    {
      "cell_type": "code",
      "source": [
        "CBOW_predict('the cat on the mat',model)"
      ],
      "metadata": {
        "colab": {
          "base_uri": "https://localhost:8080/"
        },
        "id": "-J7Adq0se77o",
        "outputId": "b346a21e-624c-4848-8ea4-88d3c6921c38"
      },
      "execution_count": 24,
      "outputs": [
        {
          "output_type": "stream",
          "name": "stdout",
          "text": [
            "Context:  ['the', 'cat', 'on', 'the']\n",
            "Target:  mat\n",
            "Similar words:  [('the', 0.9468207359313965), ('on', 0.896109938621521), ('one', 0.8583189845085144), ('this', 0.8462532758712769), ('same', 0.842319667339325)]\n"
          ]
        }
      ]
    }
  ]
}